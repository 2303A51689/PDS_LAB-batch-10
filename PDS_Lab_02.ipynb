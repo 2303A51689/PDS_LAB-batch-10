{
  "nbformat": 4,
  "nbformat_minor": 0,
  "metadata": {
    "colab": {
      "provenance": [],
      "authorship_tag": "ABX9TyMvpGDQl2piCH2GD07rxT2q",
      "include_colab_link": true
    },
    "kernelspec": {
      "name": "python3",
      "display_name": "Python 3"
    },
    "language_info": {
      "name": "python"
    }
  },
  "cells": [
    {
      "cell_type": "markdown",
      "metadata": {
        "id": "view-in-github",
        "colab_type": "text"
      },
      "source": [
        "<a href=\"https://colab.research.google.com/github/2303A51689/PDS_LAB-batch-10/blob/main/PDS_Lab_02.ipynb\" target=\"_parent\"><img src=\"https://colab.research.google.com/assets/colab-badge.svg\" alt=\"Open In Colab\"/></a>"
      ]
    },
    {
      "cell_type": "code",
      "execution_count": 7,
      "metadata": {
        "colab": {
          "base_uri": "https://localhost:8080/"
        },
        "id": "95ZUQvvr_qvO",
        "outputId": "ec651063-594a-4d75-95f7-9f3a4640add3"
      },
      "outputs": [
        {
          "output_type": "stream",
          "name": "stdout",
          "text": [
            "Marks:\n",
            " [[85 78 92]\n",
            " [70 88 76]\n",
            " [90 95 89]\n",
            " [65 60 72]\n",
            " [88 82 91]]\n",
            "Average: [85.         78.         91.33333333 65.66666667 87.        ]\n",
            "Minimum: [78 70 89 60 82]\n",
            "Maximum: [92 88 95 72 91]\n",
            "Student 3 Marks: [90 95 89]\n",
            "Students scoring >80:\n",
            " Student 1 [85 78 92]\n",
            " Student 2 [70 88 76]\n",
            " Student 3 [90 95 89]\n",
            " Student 5 [88 82 91]\n",
            "Subject-wise performance:\n",
            " [[85 70 90 65 88]\n",
            " [78 88 95 60 82]\n",
            " [92 76 89 72 91]]\n"
          ]
        }
      ],
      "source": [
        "import numpy as np\n",
        "\n",
        "marks = np.array([\n",
        "    [85, 78, 92],\n",
        "    [70, 88, 76],\n",
        "    [90, 95, 89],\n",
        "    [65, 60, 72],\n",
        "    [88, 82, 91]\n",
        "])\n",
        "\n",
        "print(\"Marks:\\n\", marks)\n",
        "print(\"Average:\", np.mean(marks, axis=1))\n",
        "print(\"Minimum:\", np.min(marks, axis=1))\n",
        "print(\"Maximum:\", np.max(marks, axis=1))\n",
        "\n",
        "print(\"Student 3 Marks:\", marks[2])\n",
        "print(\"Students scoring >80:\")\n",
        "for i, row in enumerate(marks):\n",
        "    if np.any(row > 80):\n",
        "        print(\" Student\", i+1, row)\n",
        "\n",
        "print(\"Subject-wise performance:\\n\", marks.T)\n"
      ]
    },
    {
      "cell_type": "code",
      "source": [
        "import pandas as pd\n",
        "\n",
        "data = {\n",
        "    \"ID\": [101, 102, 103, 104, 105],\n",
        "    \"Name\": [\"Alice\", \"Bob\", \"Charlie\", \"David\", \"Eva\"],\n",
        "    \"Department\": [\"HR\", \"IT\", \"Finance\", \"Marketing\", \"IT\"],\n",
        "    \"Salary\": [48000, 52000, 75000, 46000, 90000]\n",
        "}\n",
        "df = pd.DataFrame(data)\n",
        "print(\"Original Data:\\n\", df)\n",
        "\n",
        "# Filter salary > 50,000\n",
        "print(\"\\nEmployees with Salary > 50,000:\\n\", df[df[\"Salary\"] > 50000])\n",
        "\n",
        "# Sort by salary (descending)\n",
        "df_sorted = df.sort_values(by=\"Salary\", ascending=False)\n",
        "print(\"\\nSorted by Salary (desc):\\n\", df_sorted)\n",
        "\n",
        "# Add Bonus (10% of salary)\n",
        "df[\"Bonus\"] = df[\"Salary\"] * 0.10\n",
        "print(\"\\nWith Bonus Column:\\n\", df)\n",
        "\n",
        "# Total expense (Salary + Bonus)\n",
        "df[\"Total\"] = df[\"Salary\"] + df[\"Bonus\"]\n",
        "print(\"\\nTotal Salary Expense including Bonus:\", df[\"Total\"].sum())\n",
        "\n",
        "# Save to CSV\n",
        "df.to_csv(\"employee_salary_analysis.csv\", index=False)\n",
        "print(\"\\nData saved to 'employee_salary_analysis.csv'\")"
      ],
      "metadata": {
        "colab": {
          "base_uri": "https://localhost:8080/"
        },
        "id": "HhICEynGBWdz",
        "outputId": "9d1dc396-fe2d-4bd9-96e7-b65b293e50ef"
      },
      "execution_count": 8,
      "outputs": [
        {
          "output_type": "stream",
          "name": "stdout",
          "text": [
            "Original Data:\n",
            "     ID     Name Department  Salary\n",
            "0  101    Alice         HR   48000\n",
            "1  102      Bob         IT   52000\n",
            "2  103  Charlie    Finance   75000\n",
            "3  104    David  Marketing   46000\n",
            "4  105      Eva         IT   90000\n",
            "\n",
            "Employees with Salary > 50,000:\n",
            "     ID     Name Department  Salary\n",
            "1  102      Bob         IT   52000\n",
            "2  103  Charlie    Finance   75000\n",
            "4  105      Eva         IT   90000\n",
            "\n",
            "Sorted by Salary (desc):\n",
            "     ID     Name Department  Salary\n",
            "4  105      Eva         IT   90000\n",
            "2  103  Charlie    Finance   75000\n",
            "1  102      Bob         IT   52000\n",
            "0  101    Alice         HR   48000\n",
            "3  104    David  Marketing   46000\n",
            "\n",
            "With Bonus Column:\n",
            "     ID     Name Department  Salary   Bonus\n",
            "0  101    Alice         HR   48000  4800.0\n",
            "1  102      Bob         IT   52000  5200.0\n",
            "2  103  Charlie    Finance   75000  7500.0\n",
            "3  104    David  Marketing   46000  4600.0\n",
            "4  105      Eva         IT   90000  9000.0\n",
            "\n",
            "Total Salary Expense including Bonus: 342100.0\n",
            "\n",
            "Data saved to 'employee_salary_analysis.csv'\n"
          ]
        }
      ]
    }
  ]
}