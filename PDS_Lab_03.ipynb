{
  "nbformat": 4,
  "nbformat_minor": 0,
  "metadata": {
    "colab": {
      "provenance": [],
      "authorship_tag": "ABX9TyOE24AfD8gmCX35XtEW321o",
      "include_colab_link": true
    },
    "kernelspec": {
      "name": "python3",
      "display_name": "Python 3"
    },
    "language_info": {
      "name": "python"
    }
  },
  "cells": [
    {
      "cell_type": "markdown",
      "metadata": {
        "id": "view-in-github",
        "colab_type": "text"
      },
      "source": [
        "<a href=\"https://colab.research.google.com/github/2303A51689/PDS_LAB-batch-10/blob/main/PDS_Lab_03.ipynb\" target=\"_parent\"><img src=\"https://colab.research.google.com/assets/colab-badge.svg\" alt=\"Open In Colab\"/></a>"
      ]
    },
    {
      "cell_type": "code",
      "execution_count": 2,
      "metadata": {
        "colab": {
          "base_uri": "https://localhost:8080/"
        },
        "id": "DXuQwFKr-Hmi",
        "outputId": "16b0ac16-e8a9-4156-8672-59aeaed3b6b8"
      },
      "outputs": [
        {
          "output_type": "stream",
          "name": "stdout",
          "text": [
            "Matrix A:\n",
            " [[ 1  6  4]\n",
            " [10  2 19]\n",
            " [12  4  7]]\n",
            "\n",
            "Matrix B:\n",
            " [[ 5  6  7]\n",
            " [15  5 15]\n",
            " [ 9 13  5]]\n",
            "\n",
            "Addition (A + B):\n",
            " [[ 6 12 11]\n",
            " [25  7 34]\n",
            " [21 17 12]]\n",
            "\n",
            "Subtraction (A - B):\n",
            " [[-4  0 -3]\n",
            " [-5 -3  4]\n",
            " [ 3 -9  2]]\n",
            "\n",
            "Verification for element (0,0): 1 + 5 = 6\n",
            "\n",
            "Note: Broadcasting is not used since both matrices are the same shape (3x3).\n"
          ]
        }
      ],
      "source": [
        "import numpy as np\n",
        "\n",
        "A = np.random.randint(1, 21, size=(3, 3))\n",
        "B = np.random.randint(1, 21, size=(3, 3))\n",
        "\n",
        "#addition and subtraction\n",
        "add_result = np.add(A, B)\n",
        "sub_result = np.subtract(A, B)\n",
        "\n",
        "print(\"Matrix A:\\n\", A)\n",
        "print(\"\\nMatrix B:\\n\", B)\n",
        "print(\"\\nAddition (A + B):\\n\", add_result)\n",
        "print(\"\\nSubtraction (A - B):\\n\", sub_result)\n",
        "\n",
        "i, j = 0, 0\n",
        "print(f\"\\nVerification for element (0,0): {A[i,j]} + {B[i,j]} = {add_result[i,j]}\")\n",
        "\n",
        "print(\"\\nNote: Broadcasting is not used since both matrices are the same shape (3x3).\")\n"
      ]
    },
    {
      "cell_type": "code",
      "source": [
        "import numpy as np\n",
        "import matplotlib.pyplot as plt\n",
        "\n",
        "#matrices: A (3x2), B (2x3)\n",
        "A = np.random.randint(1, 10, size=(3, 2))\n",
        "B = np.random.randint(1, 10, size=(2, 3))\n",
        "\n",
        "#(Matrix Multiplication)\n",
        "C = np.dot(A, B)\n",
        "\n",
        "print(\"Matrix A (3x2):\\n\", A)\n",
        "print(\"\\nMatrix B (2x3):\\n\", B)\n",
        "print(\"\\nDot Product (A x B):\\n\", C)\n",
        "\n",
        "i, j = 0, 0\n",
        "manual_calc = A[0,0]*B[0,0] + A[0,1]*B[1,0]\n",
        "print(f\"\\nVerification for element (0,0): {A[0,0]}*{B[0,0]} + {A[0,1]}*{B[1,0]} = {manual_calc}\")\n",
        "\n",
        "fig, axes = plt.subplots(1, 3, figsize=(12, 4))\n",
        "axes[0].imshow(A, cmap=\"Blues\", aspect=\"auto\")\n",
        "axes[0].set_title(\"Matrix A (3x2)\")\n",
        "\n",
        "axes[1].imshow(B, cmap=\"Greens\", aspect=\"auto\")\n",
        "axes[1].set_title(\"Matrix B (2x3)\")\n",
        "\n",
        "axes[2].imshow(C, cmap=\"Oranges\", aspect=\"auto\")\n",
        "axes[2].set_title(\"Result (A x B) (3x3)\")\n",
        "\n",
        "plt.show()\n",
        "\n",
        "print(\"\\n🔎 Real-world use: Matrix multiplication is widely used in image transformations,\")\n",
        "print(\"where filter matrices (kernels) are applied to pixel matrices to enhance or modify images.\")\n"
      ],
      "metadata": {
        "colab": {
          "base_uri": "https://localhost:8080/",
          "height": 703
        },
        "id": "YAIe0esk-_mw",
        "outputId": "9740e7ac-7d26-4e2e-9932-c850683c8fff"
      },
      "execution_count": 3,
      "outputs": [
        {
          "output_type": "stream",
          "name": "stdout",
          "text": [
            "Matrix A (3x2):\n",
            " [[5 3]\n",
            " [8 4]\n",
            " [2 3]]\n",
            "\n",
            "Matrix B (2x3):\n",
            " [[9 4 2]\n",
            " [2 6 4]]\n",
            "\n",
            "Dot Product (A x B):\n",
            " [[51 38 22]\n",
            " [80 56 32]\n",
            " [24 26 16]]\n",
            "\n",
            "Verification for element (0,0): 5*9 + 3*2 = 51\n"
          ]
        },
        {
          "output_type": "display_data",
          "data": {
            "text/plain": [
              "<Figure size 1200x400 with 3 Axes>"
            ],
            "image/png": "[encoded data removed]"
          },
          "metadata": {}
        },
        {
          "output_type": "stream",
          "name": "stdout",
          "text": [
            "\n",
            "🔎 Real-world use: Matrix multiplication is widely used in image transformations,\n",
            "where filter matrices (kernels) are applied to pixel matrices to enhance or modify images.\n"
          ]
        }
      ]
    }
  ]
}