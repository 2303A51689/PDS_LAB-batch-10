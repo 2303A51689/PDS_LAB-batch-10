{
  "nbformat": 4,
  "nbformat_minor": 0,
  "metadata": {
    "colab": {
      "provenance": [],
      "authorship_tag": "ABX9TyMoiAqZku+sUf/36bjLFx3V",
      "include_colab_link": true
    },
    "kernelspec": {
      "name": "python3",
      "display_name": "Python 3"
    },
    "language_info": {
      "name": "python"
    }
  },
  "cells": [
    {
      "cell_type": "markdown",
      "metadata": {
        "id": "view-in-github",
        "colab_type": "text"
      },
      "source": [
        "<a href=\"https://colab.research.google.com/github/2303A51689/PDS_LAB-batch-10/blob/main/PDS_Lab_01.ipynb\" target=\"_parent\"><img src=\"https://colab.research.google.com/assets/colab-badge.svg\" alt=\"Open In Colab\"/></a>"
      ]
    },
    {
      "cell_type": "code",
      "source": [
        "# Recursive factorial function\n",
        "def factorial_recursive(n):\n",
        "    if n < 0:\n",
        "        return \"Invalid input (factorial not defined for negative numbers)\"\n",
        "    if n == 0 or n == 1:   # Base case\n",
        "        print(f\"factorial({n}) = 1\")\n",
        "        return 1\n",
        "    else:                 # Recursive case\n",
        "        result = n * factorial_recursive(n - 1)\n",
        "        print(f\"factorial({n}) = {n} * factorial({n-1}) = {result}\")\n",
        "        return result\n",
        "\n",
        "# Iterative factorial function\n",
        "def factorial_iterative(n):\n",
        "    if n < 0:\n",
        "        return \"Invalid input (factorial not defined for negative numbers)\"\n",
        "    result = 1\n",
        "    for i in range(1, n + 1):\n",
        "        result *= i\n",
        "    return result\n",
        "\n",
        "# Test Cases\n",
        "print(\"Recursive Factorial of 5:\")\n",
        "rec_result = factorial_recursive(5)\n",
        "\n",
        "print(\"\\nIterative Factorial of 5:\")\n",
        "iter_result = factorial_iterative(5)\n",
        "\n",
        "# Comparison\n",
        "print(\"\\nComparison:\")\n",
        "print(\"Recursive:\", rec_result)\n",
        "print(\"Iterative:\", iter_result)\n"
      ],
      "metadata": {
        "colab": {
          "base_uri": "https://localhost:8080/"
        },
        "id": "ffWcR14MDUpg",
        "outputId": "7ec28dbe-56e6-4fee-e882-3711d39cd22f"
      },
      "execution_count": 2,
      "outputs": [
        {
          "output_type": "stream",
          "name": "stdout",
          "text": [
            "Recursive Factorial of 5:\n",
            "factorial(1) = 1\n",
            "factorial(2) = 2 * factorial(1) = 2\n",
            "factorial(3) = 3 * factorial(2) = 6\n",
            "factorial(4) = 4 * factorial(3) = 24\n",
            "factorial(5) = 5 * factorial(4) = 120\n",
            "\n",
            "Iterative Factorial of 5:\n",
            "\n",
            "Comparison:\n",
            "Recursive: 120\n",
            "Iterative: 120\n"
          ]
        }
      ]
    },
    {
      "cell_type": "code",
      "execution_count": 1,
      "metadata": {
        "colab": {
          "base_uri": "https://localhost:8080/"
        },
        "id": "p1LG4ONfBrvi",
        "outputId": "7863f3bd-e603-46d8-c79e-47ac2f2c5c53"
      },
      "outputs": [
        {
          "output_type": "stream",
          "name": "stdout",
          "text": [
            "factorial(2) = 2\n",
            "factorial(3) = 6\n",
            "factorial(4) = 24\n",
            "factorial(5) = 120\n",
            "factorial(2) = 2\n",
            "factorial(2) = 2\n",
            "factorial(3) = 6\n",
            "nCr(5,2) = 10\n",
            "factorial(2) = 2\n",
            "factorial(3) = 6\n",
            "factorial(4) = 24\n",
            "factorial(5) = 120\n",
            "factorial(6) = 720\n",
            "factorial(2) = 2\n",
            "factorial(3) = 6\n",
            "factorial(4) = 24\n",
            "factorial(5) = 120\n",
            "factorial(6) = 720\n",
            "nCr(6,0) = 1\n",
            "factorial(2) = 2\n",
            "factorial(3) = 6\n",
            "factorial(4) = 24\n",
            "factorial(5) = 120\n",
            "factorial(6) = 720\n",
            "factorial(2) = 2\n",
            "factorial(3) = 6\n",
            "factorial(4) = 24\n",
            "factorial(5) = 120\n",
            "factorial(6) = 720\n",
            "nCr(6,6) = 1\n",
            "Comparison with math.comb:\n",
            "factorial(2) = 2\n",
            "factorial(3) = 6\n",
            "factorial(4) = 24\n",
            "factorial(5) = 120\n",
            "factorial(2) = 2\n",
            "factorial(2) = 2\n",
            "factorial(3) = 6\n",
            "nCr(5,2) = 10  | math.comb(5,2) = 10\n",
            "factorial(2) = 2\n",
            "factorial(3) = 6\n",
            "factorial(4) = 24\n",
            "factorial(5) = 120\n",
            "factorial(6) = 720\n",
            "factorial(2) = 2\n",
            "factorial(3) = 6\n",
            "factorial(4) = 24\n",
            "factorial(5) = 120\n",
            "factorial(6) = 720\n",
            "nCr(6,0) = 1  | math.comb(6,0) = 1\n",
            "factorial(2) = 2\n",
            "factorial(3) = 6\n",
            "factorial(4) = 24\n",
            "factorial(5) = 120\n",
            "factorial(6) = 720\n",
            "factorial(2) = 2\n",
            "factorial(3) = 6\n",
            "factorial(4) = 24\n",
            "factorial(5) = 120\n",
            "factorial(6) = 720\n",
            "nCr(6,6) = 1  | math.comb(6,6) = 1\n"
          ]
        }
      ],
      "source": [
        "import math\n",
        "\n",
        "# Recursive factorial function\n",
        "def factorial(n):\n",
        "    if n == 0 or n == 1:\n",
        "        return 1\n",
        "    else:\n",
        "        val = n * factorial(n - 1)\n",
        "        print(f\"factorial({n}) = {val}\")\n",
        "        return val\n",
        "\n",
        "# Function to compute nCr\n",
        "def nCr(n, r):\n",
        "    if n < r or r < 0:\n",
        "        return \"Invalid input (require n ≥ r ≥ 0)\"\n",
        "    return factorial(n) // (factorial(r) * factorial(n - r))\n",
        "\n",
        "# Test cases\n",
        "print(\"nCr(5,2) =\", nCr(5, 2))\n",
        "print(\"nCr(6,0) =\", nCr(6, 0))\n",
        "print(\"nCr(6,6) =\", nCr(6, 6))\n",
        "\n",
        "# Compare with Python's built-in math.comb()\n",
        "print(\"Comparison with math.comb:\")\n",
        "print(\"nCr(5,2) =\", nCr(5,2), \" | math.comb(5,2) =\", math.comb(5,2))\n",
        "print(\"nCr(6,0) =\", nCr(6,0), \" | math.comb(6,0) =\", math.comb(6,0))\n",
        "print(\"nCr(6,6) =\", nCr(6,6), \" | math.comb(6,6) =\", math.comb(6,6))\n"
      ]
    }
  ]
}