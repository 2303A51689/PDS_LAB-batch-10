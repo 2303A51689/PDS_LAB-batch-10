{
  "nbformat": 4,
  "nbformat_minor": 0,
  "metadata": {
    "colab": {
      "provenance": [],
      "authorship_tag": "ABX9TyP+Csuea/5QvYRL9r5L2Jbw",
      "include_colab_link": true
    },
    "kernelspec": {
      "name": "python3",
      "display_name": "Python 3"
    },
    "language_info": {
      "name": "python"
    }
  },
  "cells": [
    {
      "cell_type": "markdown",
      "metadata": {
        "id": "view-in-github",
        "colab_type": "text"
      },
      "source": [
        "<a href=\"https://colab.research.google.com/github/2303A51689/PDS_LAB-batch-10/blob/main/PDS_Ass6.ipynb\" target=\"_parent\"><img src=\"https://colab.research.google.com/assets/colab-badge.svg\" alt=\"Open In Colab\"/></a>"
      ]
    },
    {
      "cell_type": "code",
      "execution_count": 1,
      "metadata": {
        "colab": {
          "base_uri": "https://localhost:8080/"
        },
        "id": "xwfxi6S4NHwa",
        "outputId": "707a4f14-65e1-4e7a-b2c9-469fd755eada"
      },
      "outputs": [
        {
          "output_type": "stream",
          "name": "stdout",
          "text": [
            "Before Conversion:\n",
            "\n",
            "Employee_ID      int64\n",
            "Name            object\n",
            "Salary          object\n",
            "Joining_Date    object\n",
            "dtype: object\n",
            "\n",
            "After Conversion:\n",
            "\n",
            "Employee_ID              int64\n",
            "Name                    object\n",
            "Salary                   int64\n",
            "Joining_Date    datetime64[ns]\n",
            "dtype: object\n",
            "\n",
            "Final Cleaned Dataset:\n",
            "    Employee_ID     Name  Salary Joining_Date\n",
            "0          101    Alice   50000   2020-05-10\n",
            "1          102      Bob   60000   2019-08-15\n",
            "2          103  Charlie   55000   2021-01-20\n",
            "3          104    Diana   65000   2018-11-05\n"
          ]
        }
      ],
      "source": [
        "import pandas as pd\n",
        "\n",
        "# Step 1: Create a sample Employee dataset with wrong data types\n",
        "data = {\n",
        "    \"Employee_ID\": [101, 102, 103, 104],\n",
        "    \"Name\": [\"Alice\", \"Bob\", \"Charlie\", \"Diana\"],\n",
        "    \"Salary\": [\"50000\", \"60000\", \"55000\", \"65000\"],  # stored as string\n",
        "    \"Joining_Date\": [\"2020-05-10\", \"2019-08-15\", \"2021-01-20\", \"2018-11-05\"]  # string format\n",
        "}\n",
        "\n",
        "df = pd.DataFrame(data)\n",
        "\n",
        "print(\"Before Conversion:\\n\")\n",
        "print(df.dtypes)  # check data types before conversion\n",
        "\n",
        "# Step 2: Convert Salary to numeric\n",
        "df[\"Salary\"] = pd.to_numeric(df[\"Salary\"])\n",
        "\n",
        "# Step 3: Convert Joining_Date to datetime\n",
        "df[\"Joining_Date\"] = pd.to_datetime(df[\"Joining_Date\"])\n",
        "\n",
        "print(\"\\nAfter Conversion:\\n\")\n",
        "print(df.dtypes)  # check data types after conversion\n",
        "\n",
        "print(\"\\nFinal Cleaned Dataset:\\n\", df)\n"
      ]
    },
    {
      "cell_type": "code",
      "source": [
        "import pandas as pd\n",
        "\n",
        "# Step 1: Create a sample Sales dataset with duplicate entries\n",
        "data = {\n",
        "    \"Transaction_ID\": [1001, 1002, 1003, 1004, 1002, 1003],  # duplicates\n",
        "    \"Customer\": [\"Alice\", \"Bob\", \"Charlie\", \"Diana\", \"Bob\", \"Charlie\"],\n",
        "    \"Product\": [\"Laptop\", \"Mobile\", \"Tablet\", \"Headphones\", \"Mobile\", \"Tablet\"],\n",
        "    \"Amount\": [80000, 20000, 15000, 5000, 20000, 15000]\n",
        "}\n",
        "\n",
        "df = pd.DataFrame(data)\n",
        "\n",
        "print(\"Original Dataset:\\n\", df)\n",
        "\n",
        "# Step 2: Identify duplicates\n",
        "duplicates = df[df.duplicated()]\n",
        "print(\"\\nDuplicate Records:\\n\", duplicates)\n",
        "\n",
        "# Step 3: Count before removing duplicates\n",
        "print(\"\\nBefore Removing Duplicates: \", len(df))\n",
        "\n",
        "# Step 4: Remove duplicates\n",
        "df_cleaned = df.drop_duplicates()\n",
        "\n",
        "# Step 5: Count after removing duplicates\n",
        "print(\"After Removing Duplicates: \", len(df_cleaned))\n",
        "\n",
        "print(\"\\nCleaned Dataset:\\n\", df_cleaned)\n"
      ],
      "metadata": {
        "colab": {
          "base_uri": "https://localhost:8080/"
        },
        "id": "V0oSfx1qNkda",
        "outputId": "47c4b931-f4b5-4091-ea78-db6bcd85c09f"
      },
      "execution_count": 2,
      "outputs": [
        {
          "output_type": "stream",
          "name": "stdout",
          "text": [
            "Original Dataset:\n",
            "    Transaction_ID Customer     Product  Amount\n",
            "0            1001    Alice      Laptop   80000\n",
            "1            1002      Bob      Mobile   20000\n",
            "2            1003  Charlie      Tablet   15000\n",
            "3            1004    Diana  Headphones    5000\n",
            "4            1002      Bob      Mobile   20000\n",
            "5            1003  Charlie      Tablet   15000\n",
            "\n",
            "Duplicate Records:\n",
            "    Transaction_ID Customer Product  Amount\n",
            "4            1002      Bob  Mobile   20000\n",
            "5            1003  Charlie  Tablet   15000\n",
            "\n",
            "Before Removing Duplicates:  6\n",
            "After Removing Duplicates:  4\n",
            "\n",
            "Cleaned Dataset:\n",
            "    Transaction_ID Customer     Product  Amount\n",
            "0            1001    Alice      Laptop   80000\n",
            "1            1002      Bob      Mobile   20000\n",
            "2            1003  Charlie      Tablet   15000\n",
            "3            1004    Diana  Headphones    5000\n"
          ]
        }
      ]
    }
  ]
}