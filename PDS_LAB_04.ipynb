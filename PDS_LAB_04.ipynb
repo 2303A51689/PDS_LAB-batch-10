{
  "nbformat": 4,
  "nbformat_minor": 0,
  "metadata": {
    "colab": {
      "provenance": [],
      "authorship_tag": "ABX9TyPpujrWgESZnlKYONdr5gOJ",
      "include_colab_link": true
    },
    "kernelspec": {
      "name": "python3",
      "display_name": "Python 3"
    },
    "language_info": {
      "name": "python"
    }
  },
  "cells": [
    {
      "cell_type": "markdown",
      "metadata": {
        "id": "view-in-github",
        "colab_type": "text"
      },
      "source": [
        "<a href=\"https://colab.research.google.com/github/2303A51689/PDS_LAB-batch-10/blob/main/PDS_LAB_04.ipynb\" target=\"_parent\"><img src=\"https://colab.research.google.com/assets/colab-badge.svg\" alt=\"Open In Colab\"/></a>"
      ]
    },
    {
      "cell_type": "code",
      "execution_count": 3,
      "metadata": {
        "colab": {
          "base_uri": "https://localhost:8080/"
        },
        "id": "oIGgr1tt0OXz",
        "outputId": "42e7c64b-b67f-4574-fbe9-ea0690b6ae73"
      },
      "outputs": [
        {
          "output_type": "stream",
          "name": "stdout",
          "text": [
            "Original Data:\n",
            "   Student_ID    Name  Math  Science  English\n",
            "0           1   madhu   NaN     89.0       64\n",
            "1           2    ajay  51.0      NaN      100\n",
            "2           3  vamshi  92.0     85.0       57\n",
            "3           4  tharun  99.0     89.0       99\n",
            "4           5  pramod  83.0      NaN       81\n",
            "\n",
            "Data after filling missing values:\n",
            "   Student_ID    Name   Math    Science  English\n",
            "0           1   madhu  81.25  89.000000       64\n",
            "1           2    ajay  51.00  87.666667      100\n",
            "2           3  vamshi  92.00  85.000000       57\n",
            "3           4  tharun  99.00  89.000000       99\n",
            "4           5  pramod  83.00  87.666667       81\n",
            "\n",
            "High Achievers (scored >75 in all subjects):\n",
            "   Student_ID    Name  Math    Science  English\n",
            "3           4  tharun  99.0  89.000000       99\n",
            "4           5  pramod  83.0  87.666667       81\n"
          ]
        }
      ],
      "source": [
        "import pandas as pd\n",
        "\n",
        "# Step 1: Read the CSV file\n",
        "df = pd.read_csv(\"/content/student_scores.csv\")\n",
        "\n",
        "print(\"Original Data:\")\n",
        "print(df)\n",
        "\n",
        "# Step 2: Fill missing marks with column-wise average\n",
        "df.fillna(df.mean(numeric_only=True), inplace=True)\n",
        "\n",
        "print(\"\\nData after filling missing values:\")\n",
        "print(df)\n",
        "\n",
        "# Step 3: Filter students with >75 in all subjects\n",
        "high_achievers = df[(df[\"Math\"] > 75) & (df[\"Science\"] > 75) & (df[\"English\"] > 75)]\n",
        "\n",
        "print(\"\\nHigh Achievers (scored >75 in all subjects):\")\n",
        "print(high_achievers)\n"
      ]
    },
    {
      "cell_type": "code",
      "source": [
        "import pandas as pd\n",
        "\n",
        "# Step 1: Load dataset\n",
        "df = pd.read_csv(\"/content/patients.csv\")\n",
        "\n",
        "print(\"Original Data:\")\n",
        "print(df.head())\n",
        "\n",
        "# Step 2: Replace missing Age values with median\n",
        "df[\"Age\"].fillna(df[\"Age\"].median(), inplace=True)\n",
        "\n",
        "print(\"\\nData after filling missing ages:\")\n",
        "print(df.head())\n",
        "\n",
        "# Step 3: Filter elderly female patients (>50 years) with Diabetes\n",
        "filtered = df[\n",
        "    (df[\"Gender\"].str.lower() == \"female\") &\n",
        "    (df[\"Age\"] > 50) &\n",
        "    (df[\"Diagnosis\"].str.lower() == \"diabetes\")\n",
        "]\n",
        "\n",
        "print(\"\\nFiltered Records (Elderly Female with Diabetes):\")\n",
        "print(filtered)"
      ],
      "metadata": {
        "colab": {
          "base_uri": "https://localhost:8080/"
        },
        "id": "_hSS3S0K130S",
        "outputId": "396af648-cd2c-45c9-f455-026b16e7abbf"
      },
      "execution_count": 4,
      "outputs": [
        {
          "output_type": "stream",
          "name": "stdout",
          "text": [
            "Original Data:\n",
            "   PatientID         Name   Age  Gender     Diagnosis AdmissionDate\n",
            "0          1     John Doe  34.0    Male           Flu    15-03-2024\n",
            "1          2  Alice Smith  45.0  Female      Diabetes    03-08-2025\n",
            "2          3  Bob Johnson   NaN    Male  Hypertension    05-08-2025\n",
            "3          4  Clara James  29.0  Female           NaN    07-08-2025\n",
            "4          5    David Lee  63.0    Male        Asthma    09-08-2025\n",
            "\n",
            "Data after filling missing ages:\n",
            "   PatientID         Name   Age  Gender     Diagnosis AdmissionDate\n",
            "0          1     John Doe  34.0    Male           Flu    15-03-2024\n",
            "1          2  Alice Smith  45.0  Female      Diabetes    03-08-2025\n",
            "2          3  Bob Johnson  50.0    Male  Hypertension    05-08-2025\n",
            "3          4  Clara James  29.0  Female           NaN    07-08-2025\n",
            "4          5    David Lee  63.0    Male        Asthma    09-08-2025\n",
            "\n",
            "Filtered Records (Elderly Female with Diabetes):\n",
            "    PatientID           Name   Age  Gender Diagnosis AdmissionDate\n",
            "10         11    Laura Green  65.0  Female  Diabetes    18-08-2025\n",
            "11         12  Martha Wilson  72.0  Female  Diabetes    19-08-2025\n"
          ]
        },
        {
          "output_type": "stream",
          "name": "stderr",
          "text": [
            "/tmp/ipython-input-941914220.py:10: FutureWarning: A value is trying to be set on a copy of a DataFrame or Series through chained assignment using an inplace method.\n",
            "The behavior will change in pandas 3.0. This inplace method will never work because the intermediate object on which we are setting values always behaves as a copy.\n",
            "\n",
            "For example, when doing 'df[col].method(value, inplace=True)', try using 'df.method({col: value}, inplace=True)' or df[col] = df[col].method(value) instead, to perform the operation inplace on the original object.\n",
            "\n",
            "\n",
            "  df[\"Age\"].fillna(df[\"Age\"].median(), inplace=True)\n"
          ]
        }
      ]
    }
  ]
}